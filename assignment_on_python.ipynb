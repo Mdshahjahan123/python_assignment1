{
 "cells": [
  {
   "cell_type": "code",
   "execution_count": 1,
   "id": "b9f0fbc3",
   "metadata": {},
   "outputs": [],
   "source": [
    "#Q1: Write a python program to get the Flbonacci series 0 to 50."
   ]
  },
  {
   "cell_type": "code",
   "execution_count": 2,
   "id": "6e7965c8",
   "metadata": {},
   "outputs": [
    {
     "name": "stdout",
     "output_type": "stream",
     "text": [
      "1\n",
      "1\n",
      "2\n",
      "3\n",
      "5\n",
      "8\n",
      "13\n",
      "21\n",
      "34\n"
     ]
    }
   ],
   "source": [
    "x , y = 0 ,1\n",
    "\n",
    "while y<50:\n",
    "    print(y)\n",
    "    x , y = y , x+y"
   ]
  },
  {
   "cell_type": "code",
   "execution_count": 3,
   "id": "4b06b726",
   "metadata": {},
   "outputs": [],
   "source": [
    "#Q2: Write a python program that accepts a word from the user and reverse it."
   ]
  },
  {
   "cell_type": "markdown",
   "id": "c423d7ef",
   "metadata": {},
   "source": [
    "\n",
    "\n"
   ]
  },
  {
   "cell_type": "code",
   "execution_count": 4,
   "id": "0e71000a",
   "metadata": {},
   "outputs": [
    {
     "name": "stdout",
     "output_type": "stream",
     "text": [
      "Input a word to reverse: Edyoda\n",
      "adoydE\n",
      "\n"
     ]
    }
   ],
   "source": [
    "word = input(\"Input a word to reverse: \")\n",
    " \n",
    "for char in range(len(word) - 1, -1, -1):\n",
    "  print(word[char], end=\"\")\n",
    "print(\"\\n\")\n"
   ]
  },
  {
   "cell_type": "code",
   "execution_count": 5,
   "id": "6a841b3a",
   "metadata": {},
   "outputs": [],
   "source": [
    "#Q3: Write a python program to count the number of even and odd numbers from a series of numbers."
   ]
  },
  {
   "cell_type": "code",
   "execution_count": 6,
   "id": "16baa1ee",
   "metadata": {},
   "outputs": [
    {
     "name": "stdout",
     "output_type": "stream",
     "text": [
      "Number of even numbers : 4\n",
      "Number of odd numbers : 5\n"
     ]
    }
   ],
   "source": [
    "numbers = (1, 2, 3, 4, 5, 6, 7, 8, 9) # Declaring the tuple\n",
    "count_odd = 0\n",
    "count_even = 0\n",
    "for x in numbers:\n",
    "        if not x % 2:\n",
    "    \t     count_even+=1\n",
    "        else:\n",
    "    \t     count_odd+=1\n",
    "print(\"Number of even numbers :\",count_even)\n",
    "print(\"Number of odd numbers :\",count_odd)"
   ]
  },
  {
   "cell_type": "code",
   "execution_count": null,
   "id": "e43d8ae3",
   "metadata": {},
   "outputs": [],
   "source": []
  }
 ],
 "metadata": {
  "kernelspec": {
   "display_name": "Python 3 (ipykernel)",
   "language": "python",
   "name": "python3"
  },
  "language_info": {
   "codemirror_mode": {
    "name": "ipython",
    "version": 3
   },
   "file_extension": ".py",
   "mimetype": "text/x-python",
   "name": "python",
   "nbconvert_exporter": "python",
   "pygments_lexer": "ipython3",
   "version": "3.9.6"
  }
 },
 "nbformat": 4,
 "nbformat_minor": 5
}
